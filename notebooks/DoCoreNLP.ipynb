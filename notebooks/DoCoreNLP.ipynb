{
 "cells": [
  {
   "cell_type": "code",
   "execution_count": 1,
   "metadata": {
    "collapsed": true
   },
   "outputs": [],
   "source": [
    "from pygate import *\n",
    "from pygate.ext.stanford import StanfordAnnotator\n",
    "from nltk.corpus import *"
   ]
  },
  {
   "cell_type": "code",
   "execution_count": 2,
   "metadata": {
    "collapsed": true
   },
   "outputs": [],
   "source": [
    "#server for pycorenlp\n",
    "#run this in terminal\n",
    "# java -Xmx6g -cp \"*\" edu.stanford.nlp.pipeline.StanfordCoreNLPServer 9000 -encoding utf-8"
   ]
  },
  {
   "cell_type": "code",
   "execution_count": 3,
   "metadata": {
    "collapsed": true
   },
   "outputs": [],
   "source": [
    "argCorpus = PlaintextCorpusReader('./data/CE-ACL-14/articles', 'Lottery.*')\n",
    "argCorpus = NltkCorpus(argCorpus)"
   ]
  },
  {
   "cell_type": "code",
   "execution_count": 4,
   "metadata": {
    "collapsed": false
   },
   "outputs": [],
   "source": [
    "pipeline=Pipeline(argCorpus)\n",
    "docStore=DocumentStore('./docstore/train_docs')\n",
    "pipeline.setPRs([StanfordAnnotator(cacheDir='./docstore/corenlp'),  docStore])"
   ]
  },
  {
   "cell_type": "code",
   "execution_count": 5,
   "metadata": {
    "collapsed": true
   },
   "outputs": [],
   "source": [
    "results=pipeline.process()"
   ]
  },
  {
   "cell_type": "code",
   "execution_count": 6,
   "metadata": {
    "collapsed": true
   },
   "outputs": [],
   "source": [
    "docStore.saveDocs()"
   ]
  },
  {
   "cell_type": "markdown",
   "metadata": {},
   "source": [
    "### Quick integrity Tests"
   ]
  },
  {
   "cell_type": "code",
   "execution_count": 7,
   "metadata": {
    "collapsed": false
   },
   "outputs": [
    {
     "name": "stdout",
     "output_type": "stream",
     "text": [
      "Exceptions occured for the following docs\n"
     ]
    }
   ],
   "source": [
    "print \"Exceptions occured for the following docs\"\n",
    "for ex in results[1]:\n",
    "    print ex[0].getId()\n",
    "    print 'error message:',ex[1] , '\\n'"
   ]
  },
  {
   "cell_type": "code",
   "execution_count": 22,
   "metadata": {
    "collapsed": false
   },
   "outputs": [
    {
     "name": "stdout",
     "output_type": "stream",
     "text": [
      "[doc([In economics, the cycle of poverty is the \"set of factors or events by which poverty, once started, is likely to continue unless there is outside intervention.\"//Sentence:0//tidx0:33]//sentf[{'dep-parse': 'not implemented!', 'index': 0, 'constituency-parse': u\"(ROOT\\n  (S\\n    (PP (IN In)\\//tknf[{'lemma': u'in', 'ner': u'O', 'pos': u'IN', 'index': 1}])]\n"
     ]
    }
   ],
   "source": [
    "doc=docStore.getDocs()[0]\n",
    "# doc.getSents()\n",
    "print doc['Document']"
   ]
  },
  {
   "cell_type": "code",
   "execution_count": 23,
   "metadata": {
    "collapsed": false
   },
   "outputs": [
    {
     "name": "stdout",
     "output_type": "stream",
     "text": [
      "13\n"
     ]
    },
    {
     "data": {
      "text/plain": [
       "17944"
      ]
     },
     "execution_count": 23,
     "metadata": {},
     "output_type": "execute_result"
    }
   ],
   "source": [
    "print doc.getTokens()[-1].cEnd\n",
    "len(doc.getString())\n",
    "len(doc.getText())"
   ]
  },
  {
   "cell_type": "code",
   "execution_count": 9,
   "metadata": {
    "collapsed": false
   },
   "outputs": [
    {
     "data": {
      "text/plain": [
       "['kk', 'ok']"
      ]
     },
     "execution_count": 9,
     "metadata": {},
     "output_type": "execute_result"
    }
   ],
   "source": [
    "\"kk->ok\".split('->')"
   ]
  },
  {
   "cell_type": "code",
   "execution_count": null,
   "metadata": {
    "collapsed": true
   },
   "outputs": [],
   "source": []
  }
 ],
 "metadata": {
  "kernelspec": {
   "display_name": "Python 2",
   "language": "python",
   "name": "python2"
  },
  "language_info": {
   "codemirror_mode": {
    "name": "ipython",
    "version": 2
   },
   "file_extension": ".py",
   "mimetype": "text/x-python",
   "name": "python",
   "nbconvert_exporter": "python",
   "pygments_lexer": "ipython2",
   "version": "2.7.11"
  }
 },
 "nbformat": 4,
 "nbformat_minor": 0
}
